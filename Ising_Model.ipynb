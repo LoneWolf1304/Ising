{
 "cells": [
  {
   "cell_type": "code",
   "execution_count": 7,
   "metadata": {},
   "outputs": [],
   "source": [
    "#Importing necessary packages\n",
    "using LinearAlgebra\n",
    "using Plots\n",
    "using Distributions\n",
    "using Random\n",
    "using LaTeXStrings\n",
    "using Statistics\n",
    "using StatsPlots"
   ]
  },
  {
   "cell_type": "code",
   "execution_count": 2,
   "metadata": {},
   "outputs": [
    {
     "data": {
      "text/plain": [
       "init_st (generic function with 1 method)"
      ]
     },
     "metadata": {},
     "output_type": "display_data"
    }
   ],
   "source": [
    "#Function to generate the initial state with +1 spins (with probability p)\n",
    "function init_st(n, p)\n",
    "    L=zeros(n,n); #creating a matrix which will be our lattice\n",
    "\n",
    "    #assigning spins to lattice site according to probability p \n",
    "    for i =1:n\n",
    "        for j = 1:n\n",
    "            a=rand()\n",
    "            if a<p\n",
    "                L[i,j]=1\n",
    "            else\n",
    "                L[i,j]=-1\n",
    "            end\n",
    "        end\n",
    "    end\n",
    "\n",
    "    #imposing periodic boundary condition to ensure that boundary terms also get 4 neighbours\n",
    "    L\n",
    "end\n"
   ]
  },
  {
   "cell_type": "code",
   "execution_count": 3,
   "metadata": {},
   "outputs": [
    {
     "data": {
      "text/plain": [
       "boundary (generic function with 1 method)"
      ]
     },
     "metadata": {},
     "output_type": "display_data"
    }
   ],
   "source": [
    "#=Function to impose periodic boundary conditions:\n",
    "if index site is less than 1, it returns n (the index of the opposite site of the lattice) and vice versa. \n",
    "this way, the whole lattice is wrapped around itself, satisfying PBC\n",
    "=#\n",
    "function boundary(i)\n",
    "    if i<1\n",
    "        return n\n",
    "    elseif i>n\n",
    "        return 1\n",
    "    else\n",
    "        return i\n",
    "    end\n",
    "end"
   ]
  },
  {
   "cell_type": "code",
   "execution_count": null,
   "metadata": {},
   "outputs": [],
   "source": [
    "#dimension\n",
    "n=50\n",
    "\n",
    "#Metropolis\n",
    "#defining range of beta for which to run\n",
    "para=0.01:0.01:1.5\n",
    "#s_n=[]\n",
    "#running for 100 trials\n",
    "for i = 1:100\n",
    "    #stores value of magnetisation for each trial\n",
    "    m_m1=[]\n",
    "\n",
    "    #stores the heat capacity for each trial\n",
    "    C2=[]\n",
    "    #creating initial state with random spins \n",
    "    L= init_st(n, 0.5);\n",
    "\n",
    "\n",
    "    #running the metropolis algorithm for entire range of beta\n",
    "    for k = 1:length(para)\n",
    "\n",
    "        #stores energy\n",
    "        e=0\n",
    "        ev=0\n",
    "        #running each MC step\n",
    "        for i =1:160000\n",
    "            b=para[k]\n",
    "            #choosing a random lattice point\n",
    "            i=rand(1:n)\n",
    "            j=rand(1:n)\n",
    "            S= -2*L[i,j]*(L[boundary(i+1),j]+L[boundary(i-1),j]+L[i,boundary(j+1)]+L[i,boundary(j-1)]) #calculating energy difference between the present state and if spin is flipped\n",
    "            E_diff=-S\n",
    "\n",
    "            e+=E_diff\n",
    "            ev+=E_diff^2\n",
    "\n",
    "            #using the spin flip rules\n",
    "            if E_diff<=0\n",
    "                    L[i,j]*=-1\n",
    "            else\n",
    "                A=exp(-b*E_diff)\n",
    "                cnt=rand()\n",
    "                if cnt<A\n",
    "                    L[i,j]*=-1\n",
    "                end\n",
    "            end\n",
    "        end\n",
    "        append!(C2, ((1/160000.0)*ev -(1/160000.0)*(1/160000.0)*e*e)*(para[k]^2)/(n*n))\n",
    "        append!(m_m1,sum(L)/(n*n))\n",
    "        #push!(s_m, copy(L))\n",
    "    end\n",
    "end\n",
    "        "
   ]
  }
 ],
 "metadata": {
  "kernelspec": {
   "display_name": "Julia 1.10.2",
   "language": "julia",
   "name": "julia-1.10"
  },
  "language_info": {
   "file_extension": ".jl",
   "mimetype": "application/julia",
   "name": "julia",
   "version": "1.10.2"
  }
 },
 "nbformat": 4,
 "nbformat_minor": 2
}
